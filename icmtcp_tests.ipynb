{
 "cells": [
  {
   "cell_type": "code",
   "execution_count": 1,
   "id": "d21a343b",
   "metadata": {},
   "outputs": [
    {
     "ename": "ModuleNotFoundError",
     "evalue": "No module named 'icmtcp'",
     "output_type": "error",
     "traceback": [
      "\u001b[31m---------------------------------------------------------------------------\u001b[39m",
      "\u001b[31mModuleNotFoundError\u001b[39m                       Traceback (most recent call last)",
      "\u001b[36mCell\u001b[39m\u001b[36m \u001b[39m\u001b[32mIn[1]\u001b[39m\u001b[32m, line 1\u001b[39m\n\u001b[32m----> \u001b[39m\u001b[32m1\u001b[39m \u001b[38;5;28;01mfrom\u001b[39;00m\u001b[38;5;250m \u001b[39m\u001b[34;01micmtcp\u001b[39;00m\u001b[34;01m.\u001b[39;00m\u001b[34;01mpacket\u001b[39;00m\u001b[34;01m.\u001b[39;00m\u001b[34;01mip_packet\u001b[39;00m\u001b[38;5;250m \u001b[39m\u001b[38;5;28;01mimport\u001b[39;00m IPPacket\n\u001b[32m      2\u001b[39m \u001b[38;5;28;01mfrom\u001b[39;00m\u001b[38;5;250m \u001b[39m\u001b[34;01micmtcp\u001b[39;00m\u001b[34;01m.\u001b[39;00m\u001b[34;01mpacket\u001b[39;00m\u001b[34;01m.\u001b[39;00m\u001b[34;01micmp_packet\u001b[39;00m\u001b[38;5;250m \u001b[39m\u001b[38;5;28;01mimport\u001b[39;00m ICMPPacket\n\u001b[32m      3\u001b[39m \u001b[38;5;28;01mfrom\u001b[39;00m\u001b[38;5;250m \u001b[39m\u001b[34;01micmtcp\u001b[39;00m\u001b[34;01m.\u001b[39;00m\u001b[34;01mpacket\u001b[39;00m\u001b[34;01m.\u001b[39;00m\u001b[34;01mtcp_packet\u001b[39;00m\u001b[38;5;250m \u001b[39m\u001b[38;5;28;01mimport\u001b[39;00m TCPPacket\n",
      "\u001b[31mModuleNotFoundError\u001b[39m: No module named 'icmtcp'"
     ]
    }
   ],
   "source": [
    "from icmtcp.packet.ip_packet import IPPacket\n",
    "from icmtcp.packet.icmp_packet import ICMPPacket\n",
    "from icmtcp.packet.tcp_packet import TCPPacket\n",
    "from icmtcp.connection.ip_connection import IPConnection\n",
    "from scapy.all import ICMP, IP, Raw, sniff\n",
    "import socket"
   ]
  },
  {
   "cell_type": "code",
   "execution_count": 2,
   "id": "3da74f9e",
   "metadata": {},
   "outputs": [],
   "source": [
    "packet = IPPacket()\n",
    "packet.set(\"0.0.0.0\", \"127.0.0.1\", \"hi\")"
   ]
  },
  {
   "cell_type": "code",
   "execution_count": 19,
   "id": "7de0827c",
   "metadata": {},
   "outputs": [
    {
     "ename": "NameError",
     "evalue": "name 'IPConnection' is not defined",
     "output_type": "error",
     "traceback": [
      "\u001b[31m---------------------------------------------------------------------------\u001b[39m",
      "\u001b[31mNameError\u001b[39m                                 Traceback (most recent call last)",
      "\u001b[36mCell\u001b[39m\u001b[36m \u001b[39m\u001b[32mIn[19]\u001b[39m\u001b[32m, line 1\u001b[39m\n\u001b[32m----> \u001b[39m\u001b[32m1\u001b[39m connection = \u001b[43mIPConnection\u001b[49m()\n\u001b[32m      2\u001b[39m connection.open()\n",
      "\u001b[31mNameError\u001b[39m: name 'IPConnection' is not defined"
     ]
    }
   ],
   "source": [
    "connection = IPConnection()\n",
    "connection.open()"
   ]
  },
  {
   "cell_type": "code",
   "execution_count": 3,
   "id": "81b01eca",
   "metadata": {},
   "outputs": [],
   "source": [
    "s = socket.socket(socket.AF_INET, socket.SOCK_RAW, socket.IPPROTO_RAW)"
   ]
  },
  {
   "cell_type": "code",
   "execution_count": 4,
   "id": "7e63591d",
   "metadata": {},
   "outputs": [],
   "source": [
    "raw_packet = packet.compile()\n",
    "s.sendto(raw_packet, (packet.dst_ip, 0))\n",
    "recieved = s.recv(65000)"
   ]
  },
  {
   "cell_type": "code",
   "execution_count": 5,
   "id": "afab29a6",
   "metadata": {},
   "outputs": [
    {
     "data": {
      "text/plain": [
       "b'E\\x00\\x02\\x00\\x83\\xcc\\x00\\x00@\\xff\\x00\\x00\\x7f\\x00\\x00\\x01\\x7f\\x00\\x00\\x01hi'"
      ]
     },
     "execution_count": 5,
     "metadata": {},
     "output_type": "execute_result"
    }
   ],
   "source": [
    "recieved"
   ]
  },
  {
   "cell_type": "code",
   "execution_count": 6,
   "id": "e2184f5b",
   "metadata": {},
   "outputs": [],
   "source": [
    "ip_packet = IPPacket()\n",
    "ip_packet.decompile(recieved)"
   ]
  },
  {
   "cell_type": "code",
   "execution_count": 7,
   "id": "b14c1ad7",
   "metadata": {},
   "outputs": [
    {
     "name": "stdout",
     "output_type": "stream",
     "text": [
      "127.0.0.1 127.0.0.1 b'hi'\n"
     ]
    }
   ],
   "source": [
    "print(ip_packet.src_ip, ip_packet.dst_ip, ip_packet.payload)"
   ]
  },
  {
   "cell_type": "code",
   "execution_count": 8,
   "id": "ade17308",
   "metadata": {},
   "outputs": [],
   "source": [
    "icmp = ICMPPacket()\n",
    "icmp.dst_ip = \"127.0.0.1\"\n",
    "icmp.code = 8\n",
    "icmp.type = 8\n",
    "icmp.id = 8\n",
    "icmp.seq = 8\n",
    "icmp.payload = \"hi\""
   ]
  },
  {
   "cell_type": "code",
   "execution_count": 9,
   "id": "e53d509f",
   "metadata": {},
   "outputs": [],
   "source": [
    "raw_packet = icmp.compile()\n",
    "s.sendto(raw_packet, (packet.dst_ip, 0))\n",
    "recieved = s.recv(65000)"
   ]
  },
  {
   "cell_type": "code",
   "execution_count": 10,
   "id": "64a27fe2",
   "metadata": {},
   "outputs": [
    {
     "data": {
      "text/plain": [
       "<IP  version=4 ihl=5 tos=0x0 len=2560 id=30296 flags= frag=0 ttl=64 proto=255 chksum=0x0 src=127.0.0.1 dst=127.0.0.1 |<Raw  load=b'\\x08\\x08\\x8f~\\x00\\x08\\x00\\x08hi' |>>"
      ]
     },
     "execution_count": 10,
     "metadata": {},
     "output_type": "execute_result"
    }
   ],
   "source": [
    "IP(recieved)"
   ]
  },
  {
   "cell_type": "code",
   "execution_count": 11,
   "id": "d4abd1a0",
   "metadata": {},
   "outputs": [
    {
     "data": {
      "text/plain": [
       "<ICMP  type=echo-request code=8 chksum=0x8f7e id=0x8 seq=0x8 unused=b'' |<Raw  load=b'hi' |>>"
      ]
     },
     "execution_count": 11,
     "metadata": {},
     "output_type": "execute_result"
    }
   ],
   "source": [
    "ICMP(IP(recieved).getlayer('Raw').load)"
   ]
  },
  {
   "cell_type": "code",
   "execution_count": 12,
   "id": "18b81e57",
   "metadata": {},
   "outputs": [],
   "source": [
    "icmp2 = ICMPPacket()\n",
    "icmp2.decompile(recieved)"
   ]
  },
  {
   "cell_type": "code",
   "execution_count": 13,
   "id": "ea54e949",
   "metadata": {},
   "outputs": [
    {
     "data": {
      "text/plain": [
       "<IP  frag=0 proto=icmp src=127.0.0.1 dst=127.0.0.1 |<ICMP  type=echo-request code=8 id=0x8 seq=0x8 |<Raw  load=b'hi' |>>>"
      ]
     },
     "execution_count": 13,
     "metadata": {},
     "output_type": "execute_result"
    }
   ],
   "source": [
    "icmp2"
   ]
  },
  {
   "cell_type": "code",
   "execution_count": 14,
   "id": "8add2f05",
   "metadata": {},
   "outputs": [],
   "source": [
    "tcp = TCPPacket()\n",
    "tcp.set(\"0.0.0.0\", \"127.0.0.1\", \"hi\")\n",
    "tcp.src_port = 64000\n",
    "tcp.dst_port = 64001\n",
    "tcp.seq = 8\n",
    "tcp.ack = 8\n",
    "tcp.flags = \"S\""
   ]
  },
  {
   "cell_type": "code",
   "execution_count": 15,
   "id": "c6168bf8",
   "metadata": {},
   "outputs": [],
   "source": [
    "raw_packet = tcp.compile()\n",
    "s.sendto(raw_packet, (packet.dst_ip, 0))\n",
    "recieved = s.recv(65000)"
   ]
  },
  {
   "cell_type": "code",
   "execution_count": 16,
   "id": "22b06dc1",
   "metadata": {},
   "outputs": [
    {
     "data": {
      "text/plain": [
       "b'E\\x00\\x16\\x00\\xc0\\xb1\\x00\\x00@\\xff\\x00\\x00\\x7f\\x00\\x00\\x01\\x7f\\x00\\x00\\x01\\xfa\\x00\\xfa\\x01\\x00\\x00\\x00\\x08\\x00\\x00\\x00\\x08P\\x02 \\x00\\x00\\x00\\x00\\x00hi'"
      ]
     },
     "execution_count": 16,
     "metadata": {},
     "output_type": "execute_result"
    }
   ],
   "source": [
    "recieved"
   ]
  },
  {
   "cell_type": "code",
   "execution_count": 17,
   "id": "47873754",
   "metadata": {},
   "outputs": [],
   "source": [
    "tcp2 = TCPPacket()\n",
    "tcp2.decompile(recieved)"
   ]
  },
  {
   "cell_type": "code",
   "execution_count": 18,
   "id": "761b7c76",
   "metadata": {},
   "outputs": [
    {
     "data": {
      "text/plain": [
       "<IP  frag=0 proto=tcp src=127.0.0.1 dst=127.0.0.1 |<TCP  sport=64000 dport=64001 seq=8 ack=8 flags=S |<Raw  load=b'hi' |>>>"
      ]
     },
     "execution_count": 18,
     "metadata": {},
     "output_type": "execute_result"
    }
   ],
   "source": [
    "tcp2"
   ]
  }
 ],
 "metadata": {
  "kernelspec": {
   "display_name": "Python 3 (ipykernel)",
   "language": "python",
   "name": "python3"
  }
 },
 "nbformat": 4,
 "nbformat_minor": 5
}
