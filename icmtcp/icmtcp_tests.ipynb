{
 "cells": [
  {
   "cell_type": "code",
   "execution_count": 1,
   "id": "d21a343b",
   "metadata": {},
   "outputs": [],
   "source": [
    "from packet.ip_packet import IPPacket\n",
    "import socket"
   ]
  },
  {
   "cell_type": "code",
   "execution_count": 10,
   "id": "3da74f9e",
   "metadata": {},
   "outputs": [],
   "source": [
    "packet = IPPacket()\n",
    "packet.set('0.0.0.0', '127.0.0.1', \"hi\")"
   ]
  },
  {
   "cell_type": "code",
   "execution_count": 3,
   "id": "81b01eca",
   "metadata": {},
   "outputs": [],
   "source": [
    "s = socket.socket(socket.AF_INET, socket.SOCK_RAW, socket.IPPROTO_RAW)"
   ]
  },
  {
   "cell_type": "code",
   "execution_count": null,
   "id": "be007ae1",
   "metadata": {},
   "outputs": [],
   "source": [
    "packet.send(s)\n",
    "recieved = s.recv(3000)"
   ]
  },
  {
   "cell_type": "code",
   "execution_count": 5,
   "id": "b4d7540e",
   "metadata": {},
   "outputs": [
    {
     "data": {
      "text/plain": [
       "b'E\\x00\\x02\\x00\\xd4+\\x00\\x00@\\xff\\x00\\x00\\x7f\\x00\\x00\\x01\\x7f\\x00\\x00\\x01hi'"
      ]
     },
     "execution_count": 5,
     "metadata": {},
     "output_type": "execute_result"
    }
   ],
   "source": [
    "recieved"
   ]
  },
  {
   "cell_type": "code",
   "execution_count": 6,
   "id": "fa16bc16",
   "metadata": {},
   "outputs": [],
   "source": [
    "packet3 = IPPacket()\n",
    "packet3.decompile(recieved)"
   ]
  },
  {
   "cell_type": "code",
   "execution_count": 7,
   "id": "e9d6aee0",
   "metadata": {},
   "outputs": [
    {
     "data": {
      "text/plain": [
       "'127.0.0.1'"
      ]
     },
     "execution_count": 7,
     "metadata": {},
     "output_type": "execute_result"
    }
   ],
   "source": [
    "packet3.dst_ip"
   ]
  },
  {
   "cell_type": "code",
   "execution_count": 8,
   "id": "7ba72859",
   "metadata": {},
   "outputs": [
    {
     "data": {
      "text/plain": [
       "b'hi'"
      ]
     },
     "execution_count": 8,
     "metadata": {},
     "output_type": "execute_result"
    }
   ],
   "source": [
    "packet3.payload"
   ]
  },
  {
   "cell_type": "code",
   "execution_count": null,
   "id": "75b70879",
   "metadata": {},
   "outputs": [],
   "source": []
  }
 ],
 "metadata": {
  "kernelspec": {
   "display_name": "Python 3 (ipykernel)",
   "language": "python",
   "name": "python3"
  },
  "language_info": {
   "codemirror_mode": {
    "name": "ipython",
    "version": 3
   },
   "file_extension": ".py",
   "mimetype": "text/x-python",
   "name": "python",
   "nbconvert_exporter": "python",
   "pygments_lexer": "ipython3",
   "version": "3.13.7"
  }
 },
 "nbformat": 4,
 "nbformat_minor": 5
}
