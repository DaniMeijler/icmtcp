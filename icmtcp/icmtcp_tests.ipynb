{
 "cells": [
  {
   "cell_type": "code",
   "execution_count": 1,
   "id": "d21a343b",
   "metadata": {},
   "outputs": [],
   "source": [
    "from packet.ip_packet import IPPacket\n",
    "from packet.icmp_packet import ICMPPacket\n",
    "from packet.tcp_packet import TCPPacket\n",
    "from scapy.all import ICMP, IP, Raw, sniff\n",
    "import socket"
   ]
  },
  {
   "cell_type": "code",
   "execution_count": 2,
   "id": "3da74f9e",
   "metadata": {},
   "outputs": [],
   "source": [
    "packet = IPPacket()\n",
    "packet.set(\"0.0.0.0\", \"127.0.0.1\", \"hi\")"
   ]
  },
  {
   "cell_type": "code",
   "execution_count": 3,
   "id": "81b01eca",
   "metadata": {},
   "outputs": [],
   "source": [
    "s = socket.socket(socket.AF_INET, socket.SOCK_RAW, socket.IPPROTO_RAW)"
   ]
  },
  {
   "cell_type": "code",
   "execution_count": 4,
   "id": "7e63591d",
   "metadata": {},
   "outputs": [],
   "source": [
    "raw_packet = packet.compile()\n",
    "s.sendto(raw_packet, (packet.dst_ip, 0))\n",
    "recieved = s.recv(65000)"
   ]
  },
  {
   "cell_type": "code",
   "execution_count": 5,
   "id": "afab29a6",
   "metadata": {},
   "outputs": [
    {
     "data": {
      "text/plain": [
       "b'E\\x00\\x02\\x00\\x7f\\xf5\\x00\\x00@\\xff\\x00\\x00\\x7f\\x00\\x00\\x01\\x7f\\x00\\x00\\x01hi'"
      ]
     },
     "execution_count": 5,
     "metadata": {},
     "output_type": "execute_result"
    }
   ],
   "source": [
    "recieved"
   ]
  },
  {
   "cell_type": "code",
   "execution_count": 6,
   "id": "e2184f5b",
   "metadata": {},
   "outputs": [],
   "source": [
    "ip_packet = IPPacket()\n",
    "ip_packet.decompile(recieved)"
   ]
  },
  {
   "cell_type": "code",
   "execution_count": 7,
   "id": "b14c1ad7",
   "metadata": {},
   "outputs": [
    {
     "name": "stdout",
     "output_type": "stream",
     "text": [
      "127.0.0.1 127.0.0.1 b'hi'\n"
     ]
    }
   ],
   "source": [
    "print(ip_packet.src_ip, ip_packet.dst_ip, ip_packet.payload)"
   ]
  },
  {
   "cell_type": "code",
   "execution_count": 8,
   "id": "ade17308",
   "metadata": {},
   "outputs": [],
   "source": [
    "icmp = ICMPPacket()\n",
    "icmp.dst_ip = \"127.0.0.1\"\n",
    "icmp.code = 8\n",
    "icmp.type = 8\n",
    "icmp.id = 8\n",
    "icmp.seq = 8\n",
    "icmp.payload = \"hi\""
   ]
  },
  {
   "cell_type": "code",
   "execution_count": 9,
   "id": "e53d509f",
   "metadata": {},
   "outputs": [],
   "source": [
    "raw_packet = icmp.compile()\n",
    "s.sendto(raw_packet, (packet.dst_ip, 0))\n",
    "recieved = s.recv(65000)"
   ]
  },
  {
   "cell_type": "code",
   "execution_count": 10,
   "id": "64a27fe2",
   "metadata": {},
   "outputs": [
    {
     "data": {
      "text/plain": [
       "<IP  version=4 ihl=5 tos=0x0 len=2560 id=10379 flags= frag=0 ttl=64 proto=255 chksum=0x0 src=127.0.0.1 dst=127.0.0.1 |<Raw  load=b'\\x08\\x08\\x8f~\\x00\\x08\\x00\\x08hi' |>>"
      ]
     },
     "execution_count": 10,
     "metadata": {},
     "output_type": "execute_result"
    }
   ],
   "source": [
    "IP(recieved)"
   ]
  },
  {
   "cell_type": "code",
   "execution_count": 11,
   "id": "d4abd1a0",
   "metadata": {},
   "outputs": [
    {
     "data": {
      "text/plain": [
       "<ICMP  type=echo-request code=8 chksum=0x8f7e id=0x8 seq=0x8 unused=b'' |<Raw  load=b'hi' |>>"
      ]
     },
     "execution_count": 11,
     "metadata": {},
     "output_type": "execute_result"
    }
   ],
   "source": [
    "ICMP(IP(recieved).getlayer('Raw').load)"
   ]
  },
  {
   "cell_type": "code",
   "execution_count": 12,
   "id": "18b81e57",
   "metadata": {},
   "outputs": [],
   "source": [
    "icmp2 = ICMPPacket()\n",
    "icmp2.decompile(recieved)"
   ]
  },
  {
   "cell_type": "code",
   "execution_count": 13,
   "id": "ea54e949",
   "metadata": {},
   "outputs": [
    {
     "data": {
      "text/plain": [
       "<IP  frag=0 proto=icmp src=127.0.0.1 dst=127.0.0.1 |<ICMP  type=echo-request code=8 id=0x8 seq=0x8 |<Raw  load=<Raw  load=b'hi' |> |>>>"
      ]
     },
     "execution_count": 13,
     "metadata": {},
     "output_type": "execute_result"
    }
   ],
   "source": [
    "icmp2"
   ]
  },
  {
   "cell_type": "code",
   "execution_count": 14,
   "id": "8add2f05",
   "metadata": {},
   "outputs": [],
   "source": [
    "tcp = TCPPacket()\n",
    "tcp.set(\"0.0.0.0\", \"127.0.0.1\", \"hi\")\n",
    "tcp.src_port = 64000\n",
    "tcp.dst_port = 64001\n",
    "tcp.seq = 8\n",
    "tcp.ack = 8\n",
    "tcp.flags = \"S\""
   ]
  },
  {
   "cell_type": "code",
   "execution_count": null,
   "id": "c6168bf8",
   "metadata": {},
   "outputs": [],
   "source": [
    "raw_packet = tcp.compile()\n",
    "s.sendto(raw_packet, (packet.dst_ip, 0))\n",
    "recieved = s.recv(65000)"
   ]
  }
 ],
 "metadata": {
  "kernelspec": {
   "display_name": "Python 3 (ipykernel)",
   "language": "python",
   "name": "python3"
  },
  "language_info": {
   "codemirror_mode": {
    "name": "ipython",
    "version": 3
   },
   "file_extension": ".py",
   "mimetype": "text/x-python",
   "name": "python",
   "nbconvert_exporter": "python",
   "pygments_lexer": "ipython3",
   "version": "3.13.7"
  }
 },
 "nbformat": 4,
 "nbformat_minor": 5
}
