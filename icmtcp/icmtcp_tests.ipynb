{
 "cells": [
  {
   "cell_type": "code",
   "execution_count": 1,
   "id": "d21a343b",
   "metadata": {},
   "outputs": [],
   "source": [
    "from packet.ip_packet import IPPacket\n",
    "from packet.icmp_packet import ICMPPacket\n",
    "from scapy.all import ICMP, IP, Raw, sniff\n",
    "import socket"
   ]
  },
  {
   "cell_type": "code",
   "execution_count": null,
   "id": "3da74f9e",
   "metadata": {},
   "outputs": [],
   "source": [
    "packet = IPPacket()\n",
    "packet.set(\"0.0.0.0\", \"127.0.0.1\", \"hi\")"
   ]
  },
  {
   "cell_type": "code",
   "execution_count": 3,
   "id": "81b01eca",
   "metadata": {},
   "outputs": [],
   "source": [
    "# socket.htons(3) specifies the Ethernet protocol type for all protocols\n",
    "s = socket.socket(socket.AF_INET, socket.SOCK_RAW, socket.IPPROTO_RAW)\n",
    "s.setsockopt(socket.IPPROTO_IP, socket.IP_HDRINCL, 1)"
   ]
  },
  {
   "cell_type": "code",
   "execution_count": 6,
   "id": "629e2547",
   "metadata": {},
   "outputs": [
    {
     "data": {
      "text/plain": [
       "'127.0.0.1'"
      ]
     },
     "execution_count": 6,
     "metadata": {},
     "output_type": "execute_result"
    }
   ],
   "source": [
    "raw_packet = packet.compile()\n",
    "packet.dst_ip"
   ]
  },
  {
   "cell_type": "code",
   "execution_count": null,
   "id": "7e63591d",
   "metadata": {},
   "outputs": [
    {
     "ename": "OSError",
     "evalue": "[Errno 22] Invalid argument",
     "output_type": "error",
     "traceback": [
      "\u001b[31m---------------------------------------------------------------------------\u001b[39m",
      "\u001b[31mOSError\u001b[39m                                   Traceback (most recent call last)",
      "\u001b[36mCell\u001b[39m\u001b[36m \u001b[39m\u001b[32mIn[4]\u001b[39m\u001b[32m, line 1\u001b[39m\n\u001b[32m----> \u001b[39m\u001b[32m1\u001b[39m \u001b[43ms\u001b[49m\u001b[43m.\u001b[49m\u001b[43msendto\u001b[49m\u001b[43m(\u001b[49m\u001b[43mpacket\u001b[49m\u001b[43m.\u001b[49m\u001b[43mcompile\u001b[49m\u001b[43m(\u001b[49m\u001b[43m)\u001b[49m\u001b[43m,\u001b[49m\u001b[43m \u001b[49m\u001b[43m(\u001b[49m\u001b[43mpacket\u001b[49m\u001b[43m.\u001b[49m\u001b[43mdst_ip\u001b[49m\u001b[43m,\u001b[49m\u001b[43m \u001b[49m\u001b[32;43m0\u001b[39;49m\u001b[43m)\u001b[49m\u001b[43m)\u001b[49m\n",
      "\u001b[31mOSError\u001b[39m: [Errno 22] Invalid argument"
     ]
    }
   ],
   "source": [
    "s.sendto(raw_packet, (packet.dst_ip, 0))"
   ]
  }
 ],
 "metadata": {
  "kernelspec": {
   "display_name": "Python 3 (ipykernel)",
   "language": "python",
   "name": "python3"
  },
  "language_info": {
   "codemirror_mode": {
    "name": "ipython",
    "version": 3
   },
   "file_extension": ".py",
   "mimetype": "text/x-python",
   "name": "python",
   "nbconvert_exporter": "python",
   "pygments_lexer": "ipython3",
   "version": "3.13.7"
  }
 },
 "nbformat": 4,
 "nbformat_minor": 5
}
